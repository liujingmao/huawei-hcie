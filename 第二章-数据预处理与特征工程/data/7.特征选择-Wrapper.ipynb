{
 "cells": [
  {
   "cell_type": "code",
   "execution_count": 1,
   "id": "fa117cf1-5072-4180-a550-cc7ba686748f",
   "metadata": {},
   "outputs": [],
   "source": [
    "from sklearn.feature_selection import RFE\n",
    "from sklearn.linear_model import LogisticRegression\n",
    "from sklearn.datasets import load_iris"
   ]
  },
  {
   "cell_type": "code",
   "execution_count": 2,
   "id": "0858ce00-c1e0-447c-b56e-bf23e65d0569",
   "metadata": {},
   "outputs": [],
   "source": [
    "iris = load_iris()"
   ]
  },
  {
   "cell_type": "code",
   "execution_count": 4,
   "id": "ddea06ed-1bdd-44e4-90e2-e2b6e1910aa1",
   "metadata": {},
   "outputs": [],
   "source": [
    "x,y = iris.data,iris.target"
   ]
  },
  {
   "cell_type": "code",
   "execution_count": 7,
   "id": "1abef008-2f3b-400d-af5e-a41ee4d3ff58",
   "metadata": {},
   "outputs": [
    {
     "name": "stderr",
     "output_type": "stream",
     "text": [
      "/Users/liujingmao/opt/anaconda3/envs/pytorch/lib/python3.7/site-packages/sklearn/linear_model/_logistic.py:818: ConvergenceWarning: lbfgs failed to converge (status=1):\n",
      "STOP: TOTAL NO. of ITERATIONS REACHED LIMIT.\n",
      "\n",
      "Increase the number of iterations (max_iter) or scale the data as shown in:\n",
      "    https://scikit-learn.org/stable/modules/preprocessing.html\n",
      "Please also refer to the documentation for alternative solver options:\n",
      "    https://scikit-learn.org/stable/modules/linear_model.html#logistic-regression\n",
      "  extra_warning_msg=_LOGISTIC_SOLVER_CONVERGENCE_MSG,\n"
     ]
    }
   ],
   "source": [
    "## 利用RFE 方法对数据进行训练\n",
    "x_rfe = RFE(estimator=LogisticRegression(),\n",
    "           n_features_to_select=3).fit(x,y)\n",
    "import warnings\n",
    "warnings.filterwarnings('ignore')"
   ]
  },
  {
   "cell_type": "code",
   "execution_count": 8,
   "id": "a1a267fa-f282-4e01-a086-542336a9241c",
   "metadata": {},
   "outputs": [
    {
     "data": {
      "text/plain": [
       "RFE(estimator=LogisticRegression(), n_features_to_select=3)"
      ]
     },
     "execution_count": 8,
     "metadata": {},
     "output_type": "execute_result"
    }
   ],
   "source": [
    "x_rfe"
   ]
  },
  {
   "cell_type": "code",
   "execution_count": 9,
   "id": "e4c12aa2-073a-4502-a7d7-7ba746512ca0",
   "metadata": {},
   "outputs": [
    {
     "name": "stdout",
     "output_type": "stream",
     "text": [
      "3\n",
      "[False  True  True  True]\n",
      "[2 1 1 1]\n",
      "LogisticRegression()\n"
     ]
    }
   ],
   "source": [
    "## 3. 查看RFE 方法的一些属性\n",
    "print(x_rfe.n_features_)\n",
    "print(x_rfe.support_)\n",
    "print(x_rfe.ranking_)\n",
    "print(x_rfe.estimator_)"
   ]
  },
  {
   "cell_type": "code",
   "execution_count": null,
   "id": "74624a71-befa-4aa8-8799-38f2c19fcf35",
   "metadata": {},
   "outputs": [],
   "source": [
    "## RFE Recur Features Eraze. Recur Feature Erazel"
   ]
  },
  {
   "cell_type": "code",
   "execution_count": null,
   "id": "f48aa296-b6b3-421b-a181-8966a1087853",
   "metadata": {},
   "outputs": [],
   "source": []
  },
  {
   "cell_type": "code",
   "execution_count": null,
   "id": "43f6c2fd-9b5f-45da-8f04-9bf4c09dff57",
   "metadata": {},
   "outputs": [],
   "source": []
  }
 ],
 "metadata": {
  "kernelspec": {
   "display_name": "Python [conda env:pytorch]",
   "language": "python",
   "name": "pytorch"
  },
  "language_info": {
   "codemirror_mode": {
    "name": "ipython",
    "version": 3
   },
   "file_extension": ".py",
   "mimetype": "text/x-python",
   "name": "python",
   "nbconvert_exporter": "python",
   "pygments_lexer": "ipython3",
   "version": "3.7.16"
  }
 },
 "nbformat": 4,
 "nbformat_minor": 5
}
