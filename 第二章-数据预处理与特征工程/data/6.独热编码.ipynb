{
 "cells": [
  {
   "cell_type": "code",
   "execution_count": 1,
   "id": "dfcdc815-c54d-4675-9aac-2a898aa85140",
   "metadata": {},
   "outputs": [],
   "source": [
    "## 对于离散特征可以采用One-hot编码的方式来处理,使用M位状态寄存器对M个状态进行编码,M个变量用M维表示\n",
    "## 每个维度的数值或为1,或为0"
   ]
  },
  {
   "cell_type": "code",
   "execution_count": 3,
   "id": "fdcb816c-a07e-499f-be77-0e95df7e3b78",
   "metadata": {},
   "outputs": [],
   "source": [
    "from sklearn.preprocessing import OneHotEncoder\n",
    "from sklearn.datasets import load_iris\n",
    "iris = load_iris()"
   ]
  },
  {
   "cell_type": "code",
   "execution_count": 4,
   "id": "e9f5084d-f4e5-4351-92db-7954e1908866",
   "metadata": {},
   "outputs": [],
   "source": [
    "enc = OneHotEncoder(sparse=False)\n",
    "x = enc.fit_transform(iris.data)"
   ]
  },
  {
   "cell_type": "code",
   "execution_count": 5,
   "id": "6a7e72d9-06ad-4c35-89f9-750a11543aa1",
   "metadata": {},
   "outputs": [
    {
     "data": {
      "text/plain": [
       "array([[0., 0., 0., ..., 0., 0., 0.],\n",
       "       [0., 0., 0., ..., 0., 0., 0.],\n",
       "       [0., 0., 0., ..., 0., 0., 0.],\n",
       "       ...,\n",
       "       [0., 0., 0., ..., 0., 0., 0.],\n",
       "       [0., 0., 0., ..., 1., 0., 0.],\n",
       "       [0., 0., 0., ..., 0., 0., 0.]])"
      ]
     },
     "execution_count": 5,
     "metadata": {},
     "output_type": "execute_result"
    }
   ],
   "source": [
    "x"
   ]
  },
  {
   "cell_type": "code",
   "execution_count": null,
   "id": "a32ea599-6455-4819-bdf8-9d4d3c59314d",
   "metadata": {},
   "outputs": [],
   "source": [
    "## 由上面的实验结果可知,原先没有规律的数据经过独热编码操作后,将变成m个二元特征.这能够解决分类器不好处理属性数据的问题并在\n",
    "## 一定程度上也起到了扩充特征的作用"
   ]
  },
  {
   "cell_type": "code",
   "execution_count": null,
   "id": "709c9058-fd6f-44db-8bc2-803bca9cad4f",
   "metadata": {},
   "outputs": [],
   "source": [
    "\"\"\"\n",
    "n_values=auto\n",
    "默认为auto,表示每个特征使用几维的数值是由数据集自动推断的,即几种类别就使用几位表示,也可以手动设置\n",
    "categorical_feature = all \n",
    "\n",
    "\"\"\""
   ]
  }
 ],
 "metadata": {
  "kernelspec": {
   "display_name": "Python 3 (ipykernel)",
   "language": "python",
   "name": "python3"
  },
  "language_info": {
   "codemirror_mode": {
    "name": "ipython",
    "version": 3
   },
   "file_extension": ".py",
   "mimetype": "text/x-python",
   "name": "python",
   "nbconvert_exporter": "python",
   "pygments_lexer": "ipython3",
   "version": "3.9.7"
  }
 },
 "nbformat": 4,
 "nbformat_minor": 5
}
