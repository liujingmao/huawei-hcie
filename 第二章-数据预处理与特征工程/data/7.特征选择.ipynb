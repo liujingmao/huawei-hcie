{
 "cells": [
  {
   "cell_type": "code",
   "execution_count": 1,
   "id": "b3de64c4-4195-4ff5-8003-56f7dea5436a",
   "metadata": {},
   "outputs": [],
   "source": [
    "##1. import libs\n",
    "import pandas as pd\n",
    "from pandas import DataFrame as df\n",
    "from sklearn.datasets import load_iris\n",
    "from sklearn.feature_selection import SelectKBest\n",
    "from sklearn.feature_selection import chi2"
   ]
  },
  {
   "cell_type": "code",
   "execution_count": 2,
   "id": "6cc87911-f62a-46f0-ac0e-768bf6198268",
   "metadata": {},
   "outputs": [],
   "source": [
    "iris = load_iris()\n",
    "x,y = iris.data,iris.target"
   ]
  },
  {
   "cell_type": "code",
   "execution_count": 3,
   "id": "e62efccd-bff4-44e7-9e57-b45bd871b49e",
   "metadata": {},
   "outputs": [],
   "source": [
    "iris_df = pd.concat([df(x,columns=iris.feature_names),df(y,columns=['target'])],axis=1)"
   ]
  },
  {
   "cell_type": "code",
   "execution_count": 5,
   "id": "0c7b9c90-c681-485a-a2ed-c789d213ea3e",
   "metadata": {},
   "outputs": [
    {
     "data": {
      "text/html": [
       "<div>\n",
       "<style scoped>\n",
       "    .dataframe tbody tr th:only-of-type {\n",
       "        vertical-align: middle;\n",
       "    }\n",
       "\n",
       "    .dataframe tbody tr th {\n",
       "        vertical-align: top;\n",
       "    }\n",
       "\n",
       "    .dataframe thead th {\n",
       "        text-align: right;\n",
       "    }\n",
       "</style>\n",
       "<table border=\"1\" class=\"dataframe\">\n",
       "  <thead>\n",
       "    <tr style=\"text-align: right;\">\n",
       "      <th></th>\n",
       "      <th>sepal length (cm)</th>\n",
       "      <th>sepal width (cm)</th>\n",
       "      <th>petal length (cm)</th>\n",
       "      <th>petal width (cm)</th>\n",
       "      <th>target</th>\n",
       "    </tr>\n",
       "  </thead>\n",
       "  <tbody>\n",
       "    <tr>\n",
       "      <th>131</th>\n",
       "      <td>7.9</td>\n",
       "      <td>3.8</td>\n",
       "      <td>6.4</td>\n",
       "      <td>2.0</td>\n",
       "      <td>2</td>\n",
       "    </tr>\n",
       "    <tr>\n",
       "      <th>22</th>\n",
       "      <td>4.6</td>\n",
       "      <td>3.6</td>\n",
       "      <td>1.0</td>\n",
       "      <td>0.2</td>\n",
       "      <td>0</td>\n",
       "    </tr>\n",
       "    <tr>\n",
       "      <th>95</th>\n",
       "      <td>5.7</td>\n",
       "      <td>3.0</td>\n",
       "      <td>4.2</td>\n",
       "      <td>1.2</td>\n",
       "      <td>1</td>\n",
       "    </tr>\n",
       "    <tr>\n",
       "      <th>122</th>\n",
       "      <td>7.7</td>\n",
       "      <td>2.8</td>\n",
       "      <td>6.7</td>\n",
       "      <td>2.0</td>\n",
       "      <td>2</td>\n",
       "    </tr>\n",
       "    <tr>\n",
       "      <th>45</th>\n",
       "      <td>4.8</td>\n",
       "      <td>3.0</td>\n",
       "      <td>1.4</td>\n",
       "      <td>0.3</td>\n",
       "      <td>0</td>\n",
       "    </tr>\n",
       "  </tbody>\n",
       "</table>\n",
       "</div>"
      ],
      "text/plain": [
       "     sepal length (cm)  sepal width (cm)  ...  petal width (cm)  target\n",
       "131                7.9               3.8  ...               2.0       2\n",
       "22                 4.6               3.6  ...               0.2       0\n",
       "95                 5.7               3.0  ...               1.2       1\n",
       "122                7.7               2.8  ...               2.0       2\n",
       "45                 4.8               3.0  ...               0.3       0\n",
       "\n",
       "[5 rows x 5 columns]"
      ]
     },
     "execution_count": 5,
     "metadata": {},
     "output_type": "execute_result"
    }
   ],
   "source": [
    "iris_df.sample(5,axis=0)"
   ]
  },
  {
   "cell_type": "code",
   "execution_count": 6,
   "id": "46e48935-7cb1-400e-a687-8a899dda5fa8",
   "metadata": {},
   "outputs": [],
   "source": [
    "## 2 利用方差选择法对数据集4个特征进行选择\n",
    "from sklearn.feature_selection import VarianceThreshold\n",
    "x_var = VarianceThreshold(threshold=0.5).fit_transform(x,y)"
   ]
  },
  {
   "cell_type": "code",
   "execution_count": 8,
   "id": "a2110162-1c65-429e-b31f-0b9c5aa629d9",
   "metadata": {},
   "outputs": [
    {
     "data": {
      "text/plain": [
       "array([[5.1, 1.4, 0.2],\n",
       "       [4.9, 1.4, 0.2],\n",
       "       [4.7, 1.3, 0.2],\n",
       "       [4.6, 1.5, 0.2],\n",
       "       [5. , 1.4, 0.2]])"
      ]
     },
     "execution_count": 8,
     "metadata": {},
     "output_type": "execute_result"
    }
   ],
   "source": [
    "x_var[0:5]"
   ]
  },
  {
   "cell_type": "code",
   "execution_count": 9,
   "id": "6bf184ef-7d68-4ef0-8c3b-31877464e8ba",
   "metadata": {},
   "outputs": [],
   "source": [
    "###3 . 利用相关系数法对4个特征进行选择"
   ]
  },
  {
   "cell_type": "code",
   "execution_count": 12,
   "id": "da0ff936-1098-4081-b66a-c0c0d0ac197d",
   "metadata": {},
   "outputs": [
    {
     "name": "stdout",
     "output_type": "stream",
     "text": [
      "(0.7825612318100814, 2.8904783526140384e-32)\n",
      "(-0.4266575607811244, 5.2015632551773126e-08)\n",
      "(0.9490346990083885, 4.2018731529627324e-76)\n",
      "(0.9565473328764029, 4.1553110153181703e-81)\n"
     ]
    }
   ],
   "source": [
    "from scipy import stats\n",
    "for i in range(x.shape[1]):\n",
    "    x_spear = stats.pearsonr(x[:,i],y)\n",
    "    print(x_spear)"
   ]
  },
  {
   "cell_type": "code",
   "execution_count": null,
   "id": "7f10a7b4-baa5-4738-9c5b-aef4fc95d5b4",
   "metadata": {},
   "outputs": [],
   "source": [
    "### 4. 利用卡方检验选择最好的两个特征"
   ]
  },
  {
   "cell_type": "code",
   "execution_count": 13,
   "id": "ef192ead-1578-4ead-98d4-0879feb9912b",
   "metadata": {},
   "outputs": [],
   "source": [
    "x_chi2 = SelectKBest(chi2,k=2).fit_transform(x,y)"
   ]
  },
  {
   "cell_type": "code",
   "execution_count": 15,
   "id": "f32bd19c-84d5-4e42-b6dd-7ec14213c1ef",
   "metadata": {},
   "outputs": [
    {
     "data": {
      "text/plain": [
       "array([[1.4, 0.2],\n",
       "       [1.4, 0.2],\n",
       "       [1.3, 0.2],\n",
       "       [1.5, 0.2]])"
      ]
     },
     "execution_count": 15,
     "metadata": {},
     "output_type": "execute_result"
    }
   ],
   "source": [
    "x_chi2[0:4]"
   ]
  },
  {
   "cell_type": "code",
   "execution_count": 16,
   "id": "333e162c-a97b-415b-ae3d-3d50af9b8a48",
   "metadata": {},
   "outputs": [],
   "source": [
    "### 5. 利用互信息法查看各个特征与目标变更相关性\n",
    "### 不需要事先指定参数,只需要选择方法mutual_info_classif\n",
    "## 输入特征集和目标变更,就会对计算出特征x每个特征与目标y之间的互信息大小"
   ]
  },
  {
   "cell_type": "code",
   "execution_count": 17,
   "id": "a85a36f6-2a55-421a-a382-8d37a90689a3",
   "metadata": {},
   "outputs": [
    {
     "data": {
      "text/plain": [
       "array([0.47585026, 0.19200916, 0.98131644, 0.98882853])"
      ]
     },
     "execution_count": 17,
     "metadata": {},
     "output_type": "execute_result"
    }
   ],
   "source": [
    "from sklearn.feature_selection import mutual_info_classif\n",
    "x_mut = mutual_info_classif(x,y)\n",
    "x_mut"
   ]
  },
  {
   "cell_type": "code",
   "execution_count": null,
   "id": "8e73dc5c-e52a-4136-85ad-d8e984ec02fd",
   "metadata": {},
   "outputs": [],
   "source": []
  },
  {
   "cell_type": "code",
   "execution_count": null,
   "id": "e4f0b03c-a417-428e-b141-8d42c03995a6",
   "metadata": {},
   "outputs": [],
   "source": []
  },
  {
   "cell_type": "code",
   "execution_count": null,
   "id": "a1acb9a1-85df-4627-a3a5-18bacd70704a",
   "metadata": {},
   "outputs": [],
   "source": []
  }
 ],
 "metadata": {
  "kernelspec": {
   "display_name": "Python [conda env:pytorch]",
   "language": "python",
   "name": "pytorch"
  },
  "language_info": {
   "codemirror_mode": {
    "name": "ipython",
    "version": 3
   },
   "file_extension": ".py",
   "mimetype": "text/x-python",
   "name": "python",
   "nbconvert_exporter": "python",
   "pygments_lexer": "ipython3",
   "version": "3.7.16"
  }
 },
 "nbformat": 4,
 "nbformat_minor": 5
}
