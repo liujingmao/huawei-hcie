{
 "cells": [
  {
   "cell_type": "markdown",
   "id": "04d74c6f-34ed-4fd8-ad3d-2a839d58c921",
   "metadata": {},
   "source": [
    "#### 1. 数据挖掘介绍     5%\n",
    "#### 2. 预备知识        5%\n",
    "#### 3. 数据预处理      15%\n",
    "#### 4. 特征选择与降维   15%\n",
    "#### 5. 有监督学习      15%\n",
    "#### 6. 无监督学习      15%\n",
    "#### 7. 模型评估与优化   25%\n",
    "#### 8. 数据挖掘综合应用  5%"
   ]
  },
  {
   "cell_type": "code",
   "execution_count": 1,
   "id": "b82b3355-db46-486f-8ccb-be308d29e93b",
   "metadata": {},
   "outputs": [
    {
     "name": "stdout",
     "output_type": "stream",
     "text": [
      "Looking in indexes: https://pypi.tuna.tsinghua.edu.cn/simple\n",
      "Requirement already satisfied: nltk in /Users/liujingmao/opt/anaconda3/lib/python3.9/site-packages (3.8.1)\n",
      "Requirement already satisfied: regex>=2021.8.3 in /Users/liujingmao/opt/anaconda3/lib/python3.9/site-packages (from nltk) (2021.8.3)\n",
      "Requirement already satisfied: joblib in /Users/liujingmao/opt/anaconda3/lib/python3.9/site-packages (from nltk) (1.2.0)\n",
      "Requirement already satisfied: tqdm in /Users/liujingmao/opt/anaconda3/lib/python3.9/site-packages (from nltk) (4.66.2)\n",
      "Requirement already satisfied: click in /Users/liujingmao/opt/anaconda3/lib/python3.9/site-packages (from nltk) (8.0.3)\n"
     ]
    }
   ],
   "source": [
    "!pip install nltk"
   ]
  },
  {
   "cell_type": "code",
   "execution_count": 2,
   "id": "1dc1d120-f0d1-4e71-863d-27efdd54ddc0",
   "metadata": {},
   "outputs": [
    {
     "ename": "ModuleNotFoundError",
     "evalue": "No module named 'nltk'",
     "output_type": "error",
     "traceback": [
      "\u001b[0;31m---------------------------------------------------------------------------\u001b[0m",
      "\u001b[0;31mModuleNotFoundError\u001b[0m                       Traceback (most recent call last)",
      "\u001b[0;32m/var/folders/n6/fyxwnr8d7t7bggkm1gp2ld240000gn/T/ipykernel_93958/1734127563.py\u001b[0m in \u001b[0;36m<module>\u001b[0;34m\u001b[0m\n\u001b[0;32m----> 1\u001b[0;31m \u001b[0;32mimport\u001b[0m \u001b[0mnltk\u001b[0m\u001b[0;34m\u001b[0m\u001b[0;34m\u001b[0m\u001b[0m\n\u001b[0m",
      "\u001b[0;31mModuleNotFoundError\u001b[0m: No module named 'nltk'"
     ]
    }
   ],
   "source": [
    "import nltk"
   ]
  },
  {
   "cell_type": "code",
   "execution_count": null,
   "id": "ed15b06c-18f6-4b58-ba75-2af8ae7b9c74",
   "metadata": {},
   "outputs": [],
   "source": []
  }
 ],
 "metadata": {
  "kernelspec": {
   "display_name": "Python [conda env:pytorch]",
   "language": "python",
   "name": "pytorch"
  },
  "language_info": {
   "codemirror_mode": {
    "name": "ipython",
    "version": 3
   },
   "file_extension": ".py",
   "mimetype": "text/x-python",
   "name": "python",
   "nbconvert_exporter": "python",
   "pygments_lexer": "ipython3",
   "version": "3.7.16"
  }
 },
 "nbformat": 4,
 "nbformat_minor": 5
}
