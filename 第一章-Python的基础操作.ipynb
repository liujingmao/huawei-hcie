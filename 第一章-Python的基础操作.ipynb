{
 "cells": [
  {
   "cell_type": "code",
   "execution_count": 1,
   "id": "f4ed30a0-ee3e-4d2f-a36e-84eba3488333",
   "metadata": {},
   "outputs": [],
   "source": [
    "S='python'"
   ]
  },
  {
   "cell_type": "code",
   "execution_count": 2,
   "id": "6bdae7ef-e41b-4772-91d3-1c6ab4a0f105",
   "metadata": {},
   "outputs": [
    {
     "data": {
      "text/plain": [
       "'p'"
      ]
     },
     "execution_count": 2,
     "metadata": {},
     "output_type": "execute_result"
    }
   ],
   "source": [
    "S[0]"
   ]
  },
  {
   "cell_type": "code",
   "execution_count": 3,
   "id": "8df44cb3-b5c1-4e27-a50b-247adca50c51",
   "metadata": {},
   "outputs": [
    {
     "data": {
      "text/plain": [
       "'ython'"
      ]
     },
     "execution_count": 3,
     "metadata": {},
     "output_type": "execute_result"
    }
   ],
   "source": [
    "S[1:]"
   ]
  },
  {
   "cell_type": "code",
   "execution_count": 4,
   "id": "7603a3a5-a041-4c6e-813f-263715a5c959",
   "metadata": {},
   "outputs": [
    {
     "ename": "NameError",
     "evalue": "name 'Z' is not defined",
     "output_type": "error",
     "traceback": [
      "\u001b[0;31m---------------------------------------------------------------------------\u001b[0m",
      "\u001b[0;31mNameError\u001b[0m                                 Traceback (most recent call last)",
      "\u001b[0;32m/var/folders/n6/fyxwnr8d7t7bggkm1gp2ld240000gn/T/ipykernel_21931/2325027106.py\u001b[0m in \u001b[0;36m<module>\u001b[0;34m\u001b[0m\n\u001b[0;32m----> 1\u001b[0;31m \u001b[0mprint\u001b[0m\u001b[0;34m(\u001b[0m\u001b[0mZ\u001b[0m\u001b[0;34m+\u001b[0m\u001b[0mS\u001b[0m\u001b[0;34m[\u001b[0m\u001b[0;36m1\u001b[0m\u001b[0;34m:\u001b[0m\u001b[0;34m]\u001b[0m\u001b[0;34m)\u001b[0m\u001b[0;34m\u001b[0m\u001b[0;34m\u001b[0m\u001b[0m\n\u001b[0m",
      "\u001b[0;31mNameError\u001b[0m: name 'Z' is not defined"
     ]
    }
   ],
   "source": [
    "print(Z+S[1:])"
   ]
  },
  {
   "cell_type": "code",
   "execution_count": 5,
   "id": "dd7a5f3d-c7dd-4c84-b146-4cca7fb54f3d",
   "metadata": {},
   "outputs": [
    {
     "name": "stdout",
     "output_type": "stream",
     "text": [
      "Zython\n"
     ]
    }
   ],
   "source": [
    "print(\"Z\"+S[1:])"
   ]
  },
  {
   "cell_type": "code",
   "execution_count": 6,
   "id": "aa6dee51-83ef-4344-b5dd-60b0c145e804",
   "metadata": {},
   "outputs": [
    {
     "name": "stdout",
     "output_type": "stream",
     "text": [
      "zython\n"
     ]
    }
   ],
   "source": [
    "print(\"z\"+S[1:])"
   ]
  },
  {
   "cell_type": "code",
   "execution_count": 7,
   "id": "00f6f9d0-0e22-4d88-9a6a-bc381c77c10f",
   "metadata": {},
   "outputs": [
    {
     "data": {
      "text/plain": [
       "'n'"
      ]
     },
     "execution_count": 7,
     "metadata": {},
     "output_type": "execute_result"
    }
   ],
   "source": [
    "S[-1]"
   ]
  },
  {
   "cell_type": "code",
   "execution_count": 8,
   "id": "b2b40680-46ef-41e4-8d09-905ce7151192",
   "metadata": {},
   "outputs": [
    {
     "data": {
      "text/plain": [
       "'o'"
      ]
     },
     "execution_count": 8,
     "metadata": {},
     "output_type": "execute_result"
    }
   ],
   "source": [
    "S[-2]"
   ]
  },
  {
   "cell_type": "code",
   "execution_count": 9,
   "id": "ea335d65-08dd-4250-bb6e-2133d86639eb",
   "metadata": {},
   "outputs": [
    {
     "ename": "TypeError",
     "evalue": "unsupported operand type(s) for ** or pow(): 'str' and 'int'",
     "output_type": "error",
     "traceback": [
      "\u001b[0;31m---------------------------------------------------------------------------\u001b[0m",
      "\u001b[0;31mTypeError\u001b[0m                                 Traceback (most recent call last)",
      "\u001b[0;32m/var/folders/n6/fyxwnr8d7t7bggkm1gp2ld240000gn/T/ipykernel_21931/957441833.py\u001b[0m in \u001b[0;36m<module>\u001b[0;34m\u001b[0m\n\u001b[0;32m----> 1\u001b[0;31m \u001b[0mprint\u001b[0m\u001b[0;34m(\u001b[0m\u001b[0mS\u001b[0m\u001b[0;34m**\u001b[0m\u001b[0;36m2\u001b[0m\u001b[0;34m)\u001b[0m\u001b[0;34m\u001b[0m\u001b[0;34m\u001b[0m\u001b[0m\n\u001b[0m",
      "\u001b[0;31mTypeError\u001b[0m: unsupported operand type(s) for ** or pow(): 'str' and 'int'"
     ]
    }
   ],
   "source": [
    "print(S**2)"
   ]
  },
  {
   "cell_type": "code",
   "execution_count": 10,
   "id": "3c953e84-cdf5-49fe-98d3-5c9b03d127e4",
   "metadata": {},
   "outputs": [
    {
     "name": "stdout",
     "output_type": "stream",
     "text": [
      "pythonpython\n"
     ]
    }
   ],
   "source": [
    "print(S*2)"
   ]
  },
  {
   "cell_type": "code",
   "execution_count": 11,
   "id": "17b7a793-9b8a-44d7-9b3a-3dd199687faf",
   "metadata": {},
   "outputs": [
    {
     "name": "stdout",
     "output_type": "stream",
     "text": [
      "s: %s python\n"
     ]
    }
   ],
   "source": [
    "print(\"s: %s\",S)"
   ]
  },
  {
   "cell_type": "code",
   "execution_count": 12,
   "id": "88060f45-ef70-48d0-b997-058f9677cc1c",
   "metadata": {},
   "outputs": [
    {
     "name": "stdout",
     "output_type": "stream",
     "text": [
      "S: python\n"
     ]
    }
   ],
   "source": [
    "print(\"S: %s\" % S)"
   ]
  },
  {
   "cell_type": "code",
   "execution_count": 13,
   "id": "033ad415-a40b-4035-b9d9-8c7b0a0f5925",
   "metadata": {},
   "outputs": [
    {
     "name": "stdout",
     "output_type": "stream",
     "text": [
      "S: python\n"
     ]
    }
   ],
   "source": [
    "print(\"S:\",S)"
   ]
  },
  {
   "cell_type": "code",
   "execution_count": 14,
   "id": "d719e6e8-ef41-4f83-b09b-0380f4b12c6d",
   "metadata": {},
   "outputs": [],
   "source": [
    "S = 'python'"
   ]
  },
  {
   "cell_type": "code",
   "execution_count": 15,
   "id": "ae145c04-f09d-457c-b34b-5496496f4e97",
   "metadata": {},
   "outputs": [],
   "source": [
    "re = S.split()"
   ]
  },
  {
   "cell_type": "code",
   "execution_count": 16,
   "id": "f821816e-8f19-417f-b5b4-c539d0778762",
   "metadata": {},
   "outputs": [
    {
     "data": {
      "text/plain": [
       "list"
      ]
     },
     "execution_count": 16,
     "metadata": {},
     "output_type": "execute_result"
    }
   ],
   "source": [
    "type(re)"
   ]
  },
  {
   "cell_type": "code",
   "execution_count": 17,
   "id": "9377c876-52cd-4efb-a390-bbc62cbdde9d",
   "metadata": {},
   "outputs": [
    {
     "name": "stdout",
     "output_type": "stream",
     "text": [
      "python\n"
     ]
    }
   ],
   "source": [
    "for x in re:\n",
    "    print(x)"
   ]
  },
  {
   "cell_type": "code",
   "execution_count": 27,
   "id": "25229f9a-b9c5-42cd-b6ed-f5fd1a72f57e",
   "metadata": {},
   "outputs": [],
   "source": [
    "re2 = S.split(sep=\"\",maxsplit=1)"
   ]
  },
  {
   "cell_type": "code",
   "execution_count": 28,
   "id": "84b10b91-9602-401e-8756-0466da63f569",
   "metadata": {},
   "outputs": [
    {
     "data": {
      "text/plain": [
       "['python']"
      ]
     },
     "execution_count": 28,
     "metadata": {},
     "output_type": "execute_result"
    }
   ],
   "source": [
    "re2"
   ]
  },
  {
   "cell_type": "code",
   "execution_count": null,
   "id": "362cf219-98ba-4a23-bfd1-cbb687d78280",
   "metadata": {},
   "outputs": [],
   "source": []
  },
  {
   "cell_type": "code",
   "execution_count": 26,
   "id": "f2bbe6ed-76e5-4422-a096-f06ede22c3cc",
   "metadata": {},
   "outputs": [
    {
     "data": {
      "text/plain": [
       "['python']"
      ]
     },
     "execution_count": 26,
     "metadata": {},
     "output_type": "execute_result"
    }
   ],
   "source": [
    "re2"
   ]
  },
  {
   "cell_type": "code",
   "execution_count": null,
   "id": "0edcb10b-7205-446b-a27b-dc22b0c4d40a",
   "metadata": {},
   "outputs": [],
   "source": []
  },
  {
   "cell_type": "code",
   "execution_count": 24,
   "id": "c93ef054-6b90-4096-a57c-84f2b23c00f5",
   "metadata": {},
   "outputs": [
    {
     "data": {
      "text/plain": [
       "['python']"
      ]
     },
     "execution_count": 24,
     "metadata": {},
     "output_type": "execute_result"
    }
   ],
   "source": [
    "re2"
   ]
  },
  {
   "cell_type": "code",
   "execution_count": null,
   "id": "9e782bc1-8f2d-430a-b7b0-b2b26d4cf5a1",
   "metadata": {},
   "outputs": [],
   "source": []
  },
  {
   "cell_type": "code",
   "execution_count": 22,
   "id": "9b6a1064-0775-4318-9473-0280181421f9",
   "metadata": {},
   "outputs": [
    {
     "data": {
      "text/plain": [
       "['pyt', 'on']"
      ]
     },
     "execution_count": 22,
     "metadata": {},
     "output_type": "execute_result"
    }
   ],
   "source": [
    "re2"
   ]
  },
  {
   "cell_type": "code",
   "execution_count": 29,
   "id": "d847b169-aa4d-49dc-8eb7-9adb6793f8b2",
   "metadata": {},
   "outputs": [],
   "source": [
    "re3 = list(S)"
   ]
  },
  {
   "cell_type": "code",
   "execution_count": 30,
   "id": "beecf773-19f5-42f7-8d93-b901514660c4",
   "metadata": {},
   "outputs": [
    {
     "data": {
      "text/plain": [
       "['p', 'y', 't', 'h', 'o', 'n']"
      ]
     },
     "execution_count": 30,
     "metadata": {},
     "output_type": "execute_result"
    }
   ],
   "source": [
    "re3"
   ]
  },
  {
   "cell_type": "code",
   "execution_count": 33,
   "id": "5f6b68f7-bdde-4cb0-a5b5-e2e3b46c013c",
   "metadata": {},
   "outputs": [
    {
     "name": "stdout",
     "output_type": "stream",
     "text": [
      "P\n",
      "Y\n",
      "T\n",
      "H\n",
      "O\n",
      "N\n"
     ]
    }
   ],
   "source": [
    "for e in re3:\n",
    "    e.upper()\n",
    "    print(e.upper())"
   ]
  },
  {
   "cell_type": "code",
   "execution_count": 34,
   "id": "0848ea82-69c5-4356-a717-89e339f017f3",
   "metadata": {},
   "outputs": [
    {
     "data": {
      "text/plain": [
       "'PYthon'"
      ]
     },
     "execution_count": 34,
     "metadata": {},
     "output_type": "execute_result"
    }
   ],
   "source": [
    "S.replace(\"py\",\"PY\")"
   ]
  },
  {
   "cell_type": "code",
   "execution_count": 35,
   "id": "7e30b108-c5c4-4557-ac5c-c9cb3ad096d7",
   "metadata": {},
   "outputs": [
    {
     "data": {
      "text/plain": [
       "'python'"
      ]
     },
     "execution_count": 35,
     "metadata": {},
     "output_type": "execute_result"
    }
   ],
   "source": [
    "S"
   ]
  },
  {
   "cell_type": "code",
   "execution_count": 36,
   "id": "cecefcb4-0085-41f8-a2e7-b1587857df76",
   "metadata": {},
   "outputs": [],
   "source": [
    "new_s = S.replace(\"py\",\"PY\")"
   ]
  },
  {
   "cell_type": "code",
   "execution_count": 37,
   "id": "d6733293-d4b4-458a-b258-1c30a9560f79",
   "metadata": {},
   "outputs": [
    {
     "name": "stdout",
     "output_type": "stream",
     "text": [
      "PYthon\n"
     ]
    }
   ],
   "source": [
    "print(new_s)"
   ]
  },
  {
   "cell_type": "code",
   "execution_count": 38,
   "id": "9a354dc0-f89a-42bf-af76-0949a70302d5",
   "metadata": {},
   "outputs": [],
   "source": [
    "## 4 列表操作"
   ]
  },
  {
   "cell_type": "code",
   "execution_count": 39,
   "id": "89df909b-7318-4795-93e9-b5a9806b1dc6",
   "metadata": {},
   "outputs": [],
   "source": [
    "animals = [\"fish\",\"monkey\",\"dog\"]"
   ]
  },
  {
   "cell_type": "code",
   "execution_count": 40,
   "id": "919d3e48-83b7-4191-a10a-1945a2d81603",
   "metadata": {},
   "outputs": [
    {
     "data": {
      "text/plain": [
       "['fish', 'monkey', 'dog']"
      ]
     },
     "execution_count": 40,
     "metadata": {},
     "output_type": "execute_result"
    }
   ],
   "source": [
    "animals"
   ]
  },
  {
   "cell_type": "code",
   "execution_count": 41,
   "id": "98ea293f-4ce3-4455-a078-1d3724055a8b",
   "metadata": {},
   "outputs": [],
   "source": [
    "animals.append(\"cat\")"
   ]
  },
  {
   "cell_type": "code",
   "execution_count": 42,
   "id": "c97c18e8-ddbf-4534-b76e-a4a861acf00f",
   "metadata": {},
   "outputs": [
    {
     "data": {
      "text/plain": [
       "['fish', 'monkey', 'dog', 'cat']"
      ]
     },
     "execution_count": 42,
     "metadata": {},
     "output_type": "execute_result"
    }
   ],
   "source": [
    "animals"
   ]
  },
  {
   "cell_type": "code",
   "execution_count": 43,
   "id": "abe8e4e2-33bb-4093-aa9e-6ea250829e60",
   "metadata": {},
   "outputs": [
    {
     "data": {
      "text/plain": [
       "'cat'"
      ]
     },
     "execution_count": 43,
     "metadata": {},
     "output_type": "execute_result"
    }
   ],
   "source": [
    "animals[-1]"
   ]
  },
  {
   "cell_type": "code",
   "execution_count": 44,
   "id": "508c9005-9dfe-4ddd-a0da-cb87fcf9a437",
   "metadata": {},
   "outputs": [
    {
     "ename": "TypeError",
     "evalue": "list indices must be integers or slices, not tuple",
     "output_type": "error",
     "traceback": [
      "\u001b[0;31m---------------------------------------------------------------------------\u001b[0m",
      "\u001b[0;31mTypeError\u001b[0m                                 Traceback (most recent call last)",
      "\u001b[0;32m/var/folders/n6/fyxwnr8d7t7bggkm1gp2ld240000gn/T/ipykernel_21931/275633571.py\u001b[0m in \u001b[0;36m<module>\u001b[0;34m\u001b[0m\n\u001b[0;32m----> 1\u001b[0;31m \u001b[0manimals\u001b[0m\u001b[0;34m[\u001b[0m\u001b[0;34m:\u001b[0m\u001b[0;34m,\u001b[0m\u001b[0;34m-\u001b[0m\u001b[0;36m1\u001b[0m\u001b[0;34m]\u001b[0m\u001b[0;34m\u001b[0m\u001b[0;34m\u001b[0m\u001b[0m\n\u001b[0m",
      "\u001b[0;31mTypeError\u001b[0m: list indices must be integers or slices, not tuple"
     ]
    }
   ],
   "source": [
    "animals[:,-1]"
   ]
  },
  {
   "cell_type": "code",
   "execution_count": 45,
   "id": "288874b3-67b9-4099-8f1e-120c162d9206",
   "metadata": {},
   "outputs": [
    {
     "ename": "AttributeError",
     "evalue": "'list' object has no attribute 'iloc'",
     "output_type": "error",
     "traceback": [
      "\u001b[0;31m---------------------------------------------------------------------------\u001b[0m",
      "\u001b[0;31mAttributeError\u001b[0m                            Traceback (most recent call last)",
      "\u001b[0;32m/var/folders/n6/fyxwnr8d7t7bggkm1gp2ld240000gn/T/ipykernel_21931/4128925129.py\u001b[0m in \u001b[0;36m<module>\u001b[0;34m\u001b[0m\n\u001b[0;32m----> 1\u001b[0;31m \u001b[0manimals\u001b[0m\u001b[0;34m.\u001b[0m\u001b[0miloc\u001b[0m\u001b[0;34m(\u001b[0m\u001b[0;36m1\u001b[0m\u001b[0;34m)\u001b[0m\u001b[0;34m\u001b[0m\u001b[0;34m\u001b[0m\u001b[0m\n\u001b[0m",
      "\u001b[0;31mAttributeError\u001b[0m: 'list' object has no attribute 'iloc'"
     ]
    }
   ],
   "source": [
    "animals.iloc(1)"
   ]
  },
  {
   "cell_type": "code",
   "execution_count": 46,
   "id": "974ec269-50b4-42ff-9e9d-662b8bcc8173",
   "metadata": {},
   "outputs": [
    {
     "data": {
      "text/plain": [
       "['fish', 'monkey', 'dog', 'cat']"
      ]
     },
     "execution_count": 46,
     "metadata": {},
     "output_type": "execute_result"
    }
   ],
   "source": [
    "animals[0:]"
   ]
  },
  {
   "cell_type": "code",
   "execution_count": 47,
   "id": "45e7392e-f078-485e-8714-cd46f07e4c1d",
   "metadata": {},
   "outputs": [
    {
     "data": {
      "text/plain": [
       "['fish', 'monkey']"
      ]
     },
     "execution_count": 47,
     "metadata": {},
     "output_type": "execute_result"
    }
   ],
   "source": [
    "animals[:2]"
   ]
  },
  {
   "cell_type": "code",
   "execution_count": 48,
   "id": "f1fa4cf1-d2ef-4b23-9052-8a4b58bd7a34",
   "metadata": {},
   "outputs": [
    {
     "data": {
      "text/plain": [
       "<function list.reverse()>"
      ]
     },
     "execution_count": 48,
     "metadata": {},
     "output_type": "execute_result"
    }
   ],
   "source": [
    "animals.reverse"
   ]
  },
  {
   "cell_type": "code",
   "execution_count": 53,
   "id": "0f33eeee-a70e-40ad-a677-7c1129464e07",
   "metadata": {},
   "outputs": [],
   "source": [
    "animals_reverse = animals.reverse"
   ]
  },
  {
   "cell_type": "code",
   "execution_count": 54,
   "id": "832f150d-5d94-4b5f-8654-6e4235d44a60",
   "metadata": {},
   "outputs": [
    {
     "data": {
      "text/plain": [
       "<function list.reverse()>"
      ]
     },
     "execution_count": 54,
     "metadata": {},
     "output_type": "execute_result"
    }
   ],
   "source": [
    "animals_reverse"
   ]
  },
  {
   "cell_type": "code",
   "execution_count": 55,
   "id": "8d67b1b9-8245-435f-943e-1f2a2ba17a55",
   "metadata": {},
   "outputs": [
    {
     "name": "stdout",
     "output_type": "stream",
     "text": [
      "<built-in method reverse of list object at 0x7fc2321df880>\n"
     ]
    }
   ],
   "source": [
    "print(animals_reverse)"
   ]
  },
  {
   "cell_type": "code",
   "execution_count": 56,
   "id": "df860c8b-f4e4-450c-a09f-3d5eb10076bf",
   "metadata": {},
   "outputs": [],
   "source": [
    "animals.insert(2,\"tiger\")"
   ]
  },
  {
   "cell_type": "code",
   "execution_count": 57,
   "id": "3e831d56-3d85-4cba-a11c-ecceed6f7ae7",
   "metadata": {},
   "outputs": [
    {
     "data": {
      "text/plain": [
       "['cat', 'dog', 'tiger', 'monkey', 'fish']"
      ]
     },
     "execution_count": 57,
     "metadata": {},
     "output_type": "execute_result"
    }
   ],
   "source": [
    "animals"
   ]
  },
  {
   "cell_type": "code",
   "execution_count": 58,
   "id": "191c0dab-a0e9-41d5-b81d-402a3ce90d00",
   "metadata": {},
   "outputs": [
    {
     "data": {
      "text/plain": [
       "<function str.upper()>"
      ]
     },
     "execution_count": 58,
     "metadata": {},
     "output_type": "execute_result"
    }
   ],
   "source": [
    "animals[-1].upper"
   ]
  },
  {
   "cell_type": "code",
   "execution_count": 59,
   "id": "669fee18-9800-4fc8-a906-71c95e3f6c1b",
   "metadata": {},
   "outputs": [
    {
     "name": "stdout",
     "output_type": "stream",
     "text": [
      "FISH\n"
     ]
    }
   ],
   "source": [
    "print(animals[-1].upper())"
   ]
  },
  {
   "cell_type": "code",
   "execution_count": 60,
   "id": "78791197-2081-4143-8203-e70137efe75c",
   "metadata": {},
   "outputs": [
    {
     "data": {
      "text/plain": [
       "['cat', 'dog', 'tiger', 'monkey', 'fish']"
      ]
     },
     "execution_count": 60,
     "metadata": {},
     "output_type": "execute_result"
    }
   ],
   "source": [
    "animals"
   ]
  },
  {
   "cell_type": "code",
   "execution_count": 62,
   "id": "b58d3093-a8df-4022-bd34-fa0a7b818057",
   "metadata": {},
   "outputs": [
    {
     "data": {
      "text/plain": [
       "'tiger'"
      ]
     },
     "execution_count": 62,
     "metadata": {},
     "output_type": "execute_result"
    }
   ],
   "source": [
    "animals.pop(2)"
   ]
  },
  {
   "cell_type": "code",
   "execution_count": 63,
   "id": "9cc318ab-de80-4326-840d-eca8d771607a",
   "metadata": {},
   "outputs": [
    {
     "data": {
      "text/plain": [
       "['cat', 'dog', 'monkey', 'fish']"
      ]
     },
     "execution_count": 63,
     "metadata": {},
     "output_type": "execute_result"
    }
   ],
   "source": [
    "animals"
   ]
  },
  {
   "cell_type": "code",
   "execution_count": null,
   "id": "947b7e37-ee64-4f19-8bd0-1494399d37a4",
   "metadata": {},
   "outputs": [],
   "source": []
  },
  {
   "cell_type": "code",
   "execution_count": null,
   "id": "b115f0ce-1d64-4730-9406-03716e5c66d3",
   "metadata": {},
   "outputs": [],
   "source": []
  },
  {
   "cell_type": "code",
   "execution_count": 51,
   "id": "95aaa47e-0f6a-4ad5-b8ee-0c2b99fe1657",
   "metadata": {},
   "outputs": [],
   "source": [
    "animals_reverse"
   ]
  },
  {
   "cell_type": "code",
   "execution_count": 52,
   "id": "98018128-0a66-4338-8458-b4892dd77eb9",
   "metadata": {},
   "outputs": [
    {
     "name": "stdout",
     "output_type": "stream",
     "text": [
      "None\n"
     ]
    }
   ],
   "source": [
    "print(animals_reverse)"
   ]
  },
  {
   "cell_type": "code",
   "execution_count": 64,
   "id": "d88b6102-f359-4c47-b737-8ff222d64584",
   "metadata": {},
   "outputs": [
    {
     "name": "stdout",
     "output_type": "stream",
     "text": [
      "(0, 'cat')\n",
      "(1, 'dog')\n",
      "(2, 'monkey')\n",
      "(3, 'fish')\n"
     ]
    }
   ],
   "source": [
    "for i in enumerate(animals):\n",
    "    print(i)"
   ]
  },
  {
   "cell_type": "code",
   "execution_count": 65,
   "id": "0c4c3db2-3e9a-4b62-9007-1589069b3855",
   "metadata": {},
   "outputs": [
    {
     "data": {
      "text/plain": [
       "enumerate"
      ]
     },
     "execution_count": 65,
     "metadata": {},
     "output_type": "execute_result"
    }
   ],
   "source": [
    "type(enumerate(animals))"
   ]
  },
  {
   "cell_type": "code",
   "execution_count": 66,
   "id": "a831ac6d-8b4c-49f6-97e6-ccdf30306952",
   "metadata": {},
   "outputs": [],
   "source": [
    "animals.reverse()"
   ]
  },
  {
   "cell_type": "code",
   "execution_count": 68,
   "id": "c2200171-c109-402e-8a07-3bc28960fa02",
   "metadata": {},
   "outputs": [
    {
     "name": "stdout",
     "output_type": "stream",
     "text": [
      "None\n"
     ]
    }
   ],
   "source": [
    "print(animals.reverse())"
   ]
  },
  {
   "cell_type": "code",
   "execution_count": 69,
   "id": "413bfb03-e269-4b4f-8589-04de94feb93b",
   "metadata": {},
   "outputs": [],
   "source": [
    "list1 = [12,3,54,2,5,67]"
   ]
  },
  {
   "cell_type": "code",
   "execution_count": 70,
   "id": "c5933304-5dd2-4dc8-9ccf-4bd146ef63d5",
   "metadata": {},
   "outputs": [
    {
     "name": "stdout",
     "output_type": "stream",
     "text": [
      "[12, 3, 54, 2, 5, 67]\n"
     ]
    }
   ],
   "source": [
    "print(list1)"
   ]
  },
  {
   "cell_type": "code",
   "execution_count": 71,
   "id": "9b352da2-f3e7-41a7-8f62-bcc78240f029",
   "metadata": {},
   "outputs": [],
   "source": [
    "list1.reverse()"
   ]
  },
  {
   "cell_type": "code",
   "execution_count": 72,
   "id": "cc8a8315-2628-4c19-b6d4-89d765126d9f",
   "metadata": {},
   "outputs": [
    {
     "data": {
      "text/plain": [
       "[67, 5, 2, 54, 3, 12]"
      ]
     },
     "execution_count": 72,
     "metadata": {},
     "output_type": "execute_result"
    }
   ],
   "source": [
    "list1"
   ]
  },
  {
   "cell_type": "code",
   "execution_count": 73,
   "id": "677973b1-cccd-4414-a5b2-541f6d2e685a",
   "metadata": {},
   "outputs": [],
   "source": [
    "list1.sort()  ###默认从小到大"
   ]
  },
  {
   "cell_type": "code",
   "execution_count": 74,
   "id": "bd99de96-cb4a-45b8-95a9-87d2583afa4b",
   "metadata": {},
   "outputs": [
    {
     "data": {
      "text/plain": [
       "[2, 3, 5, 12, 54, 67]"
      ]
     },
     "execution_count": 74,
     "metadata": {},
     "output_type": "execute_result"
    }
   ],
   "source": [
    "list1"
   ]
  },
  {
   "cell_type": "code",
   "execution_count": 75,
   "id": "877262fd-94b6-4bba-9cc7-aebb1cd25b31",
   "metadata": {},
   "outputs": [],
   "source": [
    "list1.sort(reverse=True)"
   ]
  },
  {
   "cell_type": "code",
   "execution_count": 76,
   "id": "b517e2a2-6b2f-46f8-b02d-902d379a8a83",
   "metadata": {},
   "outputs": [
    {
     "data": {
      "text/plain": [
       "[67, 54, 12, 5, 3, 2]"
      ]
     },
     "execution_count": 76,
     "metadata": {},
     "output_type": "execute_result"
    }
   ],
   "source": [
    "list1"
   ]
  },
  {
   "cell_type": "code",
   "execution_count": 77,
   "id": "fb77b5b6-ae4e-4a39-aeca-f48c532145a5",
   "metadata": {},
   "outputs": [],
   "source": [
    "## 5.元组操作"
   ]
  },
  {
   "cell_type": "code",
   "execution_count": 78,
   "id": "3ce9baae-dd0c-472c-bad4-255120f86920",
   "metadata": {},
   "outputs": [],
   "source": [
    "T = (1,2,3)"
   ]
  },
  {
   "cell_type": "code",
   "execution_count": 79,
   "id": "f49d2a4a-f8ed-4e32-a6f0-652be7dee130",
   "metadata": {},
   "outputs": [
    {
     "name": "stdout",
     "output_type": "stream",
     "text": [
      "(1, 2, 3, 4, 5)\n"
     ]
    }
   ],
   "source": [
    "print(T+(4,5))"
   ]
  },
  {
   "cell_type": "code",
   "execution_count": 80,
   "id": "05c639e5-2bea-4ad9-8839-51e649b6d50f",
   "metadata": {},
   "outputs": [
    {
     "name": "stdout",
     "output_type": "stream",
     "text": [
      "(1, 2, 3, 5, 6)\n"
     ]
    }
   ],
   "source": [
    "print(T+(5,6))"
   ]
  },
  {
   "cell_type": "code",
   "execution_count": 81,
   "id": "2004275b-e84b-4147-b2f8-92102e590e9d",
   "metadata": {},
   "outputs": [
    {
     "name": "stdout",
     "output_type": "stream",
     "text": [
      "1\n",
      "2\n",
      "3\n"
     ]
    }
   ],
   "source": [
    "for e in T:\n",
    "    print(e)"
   ]
  },
  {
   "cell_type": "code",
   "execution_count": 82,
   "id": "9e637882-fa24-4353-9dc7-ec99fc879a6f",
   "metadata": {},
   "outputs": [],
   "source": [
    "t = (42)"
   ]
  },
  {
   "cell_type": "code",
   "execution_count": 83,
   "id": "0f7f7762-6e84-4f81-ad46-5bfc1d60ef3c",
   "metadata": {},
   "outputs": [
    {
     "data": {
      "text/plain": [
       "42"
      ]
     },
     "execution_count": 83,
     "metadata": {},
     "output_type": "execute_result"
    }
   ],
   "source": [
    "t"
   ]
  },
  {
   "cell_type": "code",
   "execution_count": 84,
   "id": "a52a707f-ef58-44a2-b1b2-d2fee4616a00",
   "metadata": {},
   "outputs": [],
   "source": [
    "t2 = (42,)"
   ]
  },
  {
   "cell_type": "code",
   "execution_count": 85,
   "id": "73ff6cec-070a-41bd-8040-ffbd32fc0b8d",
   "metadata": {},
   "outputs": [
    {
     "data": {
      "text/plain": [
       "(42,)"
      ]
     },
     "execution_count": 85,
     "metadata": {},
     "output_type": "execute_result"
    }
   ],
   "source": [
    "t2"
   ]
  },
  {
   "cell_type": "code",
   "execution_count": 86,
   "id": "92be7bca-31e7-4a8c-b5a4-078219fd7e87",
   "metadata": {},
   "outputs": [],
   "source": [
    "tuple1 = (12,45,32,55,[1,0,3])"
   ]
  },
  {
   "cell_type": "code",
   "execution_count": 87,
   "id": "374292ee-9fd2-4654-ac4d-24812bf3ba63",
   "metadata": {},
   "outputs": [
    {
     "name": "stdout",
     "output_type": "stream",
     "text": [
      "12\n",
      "45\n",
      "32\n",
      "55\n",
      "[1, 0, 3]\n"
     ]
    }
   ],
   "source": [
    "for e in tuple1:\n",
    "    print(e)"
   ]
  },
  {
   "cell_type": "code",
   "execution_count": 88,
   "id": "311528f8-d2bb-4653-a5f2-8d11ef703a43",
   "metadata": {},
   "outputs": [
    {
     "data": {
      "text/plain": [
       "45"
      ]
     },
     "execution_count": 88,
     "metadata": {},
     "output_type": "execute_result"
    }
   ],
   "source": [
    "tuple1[1]"
   ]
  },
  {
   "cell_type": "code",
   "execution_count": 89,
   "id": "1835c834-803d-4c99-b2da-f49bf6e00a38",
   "metadata": {},
   "outputs": [
    {
     "data": {
      "text/plain": [
       "[1, 0, 3]"
      ]
     },
     "execution_count": 89,
     "metadata": {},
     "output_type": "execute_result"
    }
   ],
   "source": [
    "tuple1[4]"
   ]
  },
  {
   "cell_type": "code",
   "execution_count": 90,
   "id": "79e5a940-d384-4212-8fbc-7d202426b7e7",
   "metadata": {},
   "outputs": [
    {
     "data": {
      "text/plain": [
       "0"
      ]
     },
     "execution_count": 90,
     "metadata": {},
     "output_type": "execute_result"
    }
   ],
   "source": [
    "tuple1[4][1]"
   ]
  },
  {
   "cell_type": "code",
   "execution_count": 92,
   "id": "8de954e9-835a-4789-af62-6d483252b8e8",
   "metadata": {},
   "outputs": [
    {
     "name": "stdout",
     "output_type": "stream",
     "text": [
      "1\n",
      "0\n",
      "3\n"
     ]
    }
   ],
   "source": [
    "for e in tuple1[4]:\n",
    "    print(e)"
   ]
  },
  {
   "cell_type": "code",
   "execution_count": 93,
   "id": "68b90ea4-3c61-4af2-b449-e6cc99c3474f",
   "metadata": {},
   "outputs": [
    {
     "ename": "TypeError",
     "evalue": "'tuple' object does not support item assignment",
     "output_type": "error",
     "traceback": [
      "\u001b[0;31m---------------------------------------------------------------------------\u001b[0m",
      "\u001b[0;31mTypeError\u001b[0m                                 Traceback (most recent call last)",
      "\u001b[0;32m/var/folders/n6/fyxwnr8d7t7bggkm1gp2ld240000gn/T/ipykernel_21931/1575347282.py\u001b[0m in \u001b[0;36m<module>\u001b[0;34m\u001b[0m\n\u001b[0;32m----> 1\u001b[0;31m \u001b[0mtuple1\u001b[0m\u001b[0;34m[\u001b[0m\u001b[0;36m0\u001b[0m\u001b[0;34m]\u001b[0m\u001b[0;34m=\u001b[0m\u001b[0;34m\"good\"\u001b[0m\u001b[0;34m\u001b[0m\u001b[0;34m\u001b[0m\u001b[0m\n\u001b[0m",
      "\u001b[0;31mTypeError\u001b[0m: 'tuple' object does not support item assignment"
     ]
    }
   ],
   "source": [
    "tuple1[0]=\"good\""
   ]
  },
  {
   "cell_type": "code",
   "execution_count": 94,
   "id": "00ef2f68-934e-4892-9dcc-fba1096caac0",
   "metadata": {},
   "outputs": [],
   "source": [
    "tuple1[4][2] = 2"
   ]
  },
  {
   "cell_type": "code",
   "execution_count": 95,
   "id": "95aae8f6-fd6c-4b0f-abeb-4bc996586611",
   "metadata": {},
   "outputs": [
    {
     "data": {
      "text/plain": [
       "(12, 45, 32, 55, [1, 0, 2])"
      ]
     },
     "execution_count": 95,
     "metadata": {},
     "output_type": "execute_result"
    }
   ],
   "source": [
    "tuple1"
   ]
  },
  {
   "cell_type": "code",
   "execution_count": 96,
   "id": "2bb8c128-5d14-425a-b57f-906311e80d22",
   "metadata": {},
   "outputs": [],
   "source": [
    "## 6字典的操作"
   ]
  },
  {
   "cell_type": "code",
   "execution_count": 97,
   "id": "033213a1-893c-40f5-9ac9-60dd7c48b619",
   "metadata": {},
   "outputs": [],
   "source": [
    "x = {'food':'Spam','quantity':4,'color':'pink'}"
   ]
  },
  {
   "cell_type": "code",
   "execution_count": 99,
   "id": "c68c4d66-303c-4d8a-beba-9dc944d51453",
   "metadata": {},
   "outputs": [],
   "source": [
    "d = dict({'name':'zhangsan','age':12,'occuaption':'professor'})"
   ]
  },
  {
   "cell_type": "code",
   "execution_count": 100,
   "id": "f6ddf721-2ac9-4973-b368-02caa7a3e501",
   "metadata": {},
   "outputs": [
    {
     "data": {
      "text/plain": [
       "{'food': 'Spam', 'quantity': 4, 'color': 'pink'}"
      ]
     },
     "execution_count": 100,
     "metadata": {},
     "output_type": "execute_result"
    }
   ],
   "source": [
    "x"
   ]
  },
  {
   "cell_type": "code",
   "execution_count": 101,
   "id": "3de7bcdb-5df3-4e24-9c29-b784a167f7f7",
   "metadata": {},
   "outputs": [
    {
     "data": {
      "text/plain": [
       "{'name': 'zhangsan', 'age': 12, 'occuaption': 'professor'}"
      ]
     },
     "execution_count": 101,
     "metadata": {},
     "output_type": "execute_result"
    }
   ],
   "source": [
    "d"
   ]
  },
  {
   "cell_type": "code",
   "execution_count": 102,
   "id": "3b7b8fb1-afa1-40da-9844-58711d3906d6",
   "metadata": {},
   "outputs": [],
   "source": [
    "newd = dict([(\"name\",\"zhangsan\"),(\"age\",12),(\"score\",100)])"
   ]
  },
  {
   "cell_type": "code",
   "execution_count": 103,
   "id": "1e7824eb-642e-44c1-945d-a6c58ddff483",
   "metadata": {},
   "outputs": [
    {
     "data": {
      "text/plain": [
       "{'name': 'zhangsan', 'age': 12, 'score': 100}"
      ]
     },
     "execution_count": 103,
     "metadata": {},
     "output_type": "execute_result"
    }
   ],
   "source": [
    "newd"
   ]
  },
  {
   "cell_type": "code",
   "execution_count": 104,
   "id": "f758bdc6-22e0-4a63-96d0-9534bf831db7",
   "metadata": {},
   "outputs": [],
   "source": [
    "## 拷贝数据\n",
    "newd1 = x.copy()"
   ]
  },
  {
   "cell_type": "code",
   "execution_count": 105,
   "id": "ced6a9b0-2d9b-4633-8a75-b1dc4d053f81",
   "metadata": {},
   "outputs": [
    {
     "data": {
      "text/plain": [
       "{'food': 'Spam', 'quantity': 4, 'color': 'pink'}"
      ]
     },
     "execution_count": 105,
     "metadata": {},
     "output_type": "execute_result"
    }
   ],
   "source": [
    "newd1"
   ]
  },
  {
   "cell_type": "code",
   "execution_count": 106,
   "id": "7eebf338-e8d3-4b68-9a37-6e8ffbe0d39e",
   "metadata": {},
   "outputs": [
    {
     "data": {
      "text/plain": [
       "4"
      ]
     },
     "execution_count": 106,
     "metadata": {},
     "output_type": "execute_result"
    }
   ],
   "source": [
    "newd1['quantity']"
   ]
  },
  {
   "cell_type": "code",
   "execution_count": 107,
   "id": "56cc5766-5c26-4952-bad5-2559dc74bc2a",
   "metadata": {},
   "outputs": [
    {
     "name": "stdout",
     "output_type": "stream",
     "text": [
      "{'food': 'Spam', 'quantity': 4, 'color': 'pink'}\n"
     ]
    }
   ],
   "source": [
    "print(newd1)"
   ]
  },
  {
   "cell_type": "code",
   "execution_count": 108,
   "id": "76ee5e8e-1e51-4648-8a92-5437546480ad",
   "metadata": {},
   "outputs": [
    {
     "name": "stdout",
     "output_type": "stream",
     "text": [
      "Spam\n"
     ]
    }
   ],
   "source": [
    "print(newd1['food'])"
   ]
  },
  {
   "cell_type": "code",
   "execution_count": 109,
   "id": "4f14ffa9-b776-4418-a0d7-4a0b153c5e73",
   "metadata": {},
   "outputs": [
    {
     "name": "stdout",
     "output_type": "stream",
     "text": [
      "None\n"
     ]
    }
   ],
   "source": [
    "print(d.get(\"food\"))"
   ]
  },
  {
   "cell_type": "code",
   "execution_count": 111,
   "id": "814f22b1-c9b7-44de-9bb6-ea8770a0ed4e",
   "metadata": {},
   "outputs": [
    {
     "data": {
      "text/plain": [
       "dict_keys(['name', 'age', 'occuaption'])"
      ]
     },
     "execution_count": 111,
     "metadata": {},
     "output_type": "execute_result"
    }
   ],
   "source": [
    "d.keys()"
   ]
  },
  {
   "cell_type": "code",
   "execution_count": 112,
   "id": "72e47cb6-4ece-44ab-b743-ac4450e48f95",
   "metadata": {},
   "outputs": [
    {
     "data": {
      "text/plain": [
       "dict_values(['zhangsan', 12, 'professor'])"
      ]
     },
     "execution_count": 112,
     "metadata": {},
     "output_type": "execute_result"
    }
   ],
   "source": [
    "d.values()"
   ]
  },
  {
   "cell_type": "code",
   "execution_count": 113,
   "id": "bd4bf264-ea43-4dad-8d74-b5ccbd28c3cd",
   "metadata": {},
   "outputs": [
    {
     "name": "stdout",
     "output_type": "stream",
     "text": [
      "dict_items([('name', 'zhangsan'), ('age', 12), ('occuaption', 'professor')])\n"
     ]
    }
   ],
   "source": [
    "print(d.items())"
   ]
  },
  {
   "cell_type": "code",
   "execution_count": 114,
   "id": "f64fdb04-816f-42f7-bd21-1944515217e6",
   "metadata": {},
   "outputs": [],
   "source": [
    "d.clear()"
   ]
  },
  {
   "cell_type": "code",
   "execution_count": 115,
   "id": "dd0b5ce1-57b7-43f4-87a8-93887c055eb8",
   "metadata": {},
   "outputs": [
    {
     "data": {
      "text/plain": [
       "{}"
      ]
     },
     "execution_count": 115,
     "metadata": {},
     "output_type": "execute_result"
    }
   ],
   "source": [
    "d"
   ]
  },
  {
   "cell_type": "code",
   "execution_count": 116,
   "id": "879b605b-de70-494e-bc86-deaf6583ca17",
   "metadata": {},
   "outputs": [
    {
     "data": {
      "text/plain": [
       "{'food': 'Spam', 'quantity': 4, 'color': 'pink'}"
      ]
     },
     "execution_count": 116,
     "metadata": {},
     "output_type": "execute_result"
    }
   ],
   "source": [
    "newd1"
   ]
  },
  {
   "cell_type": "code",
   "execution_count": 117,
   "id": "a93b51ec-6d0b-4b9a-928b-dfa788702243",
   "metadata": {},
   "outputs": [],
   "source": [
    "del d"
   ]
  },
  {
   "cell_type": "code",
   "execution_count": 118,
   "id": "7942a00e-fbea-455c-bbb4-50b554134ee4",
   "metadata": {},
   "outputs": [
    {
     "ename": "NameError",
     "evalue": "name 'd' is not defined",
     "output_type": "error",
     "traceback": [
      "\u001b[0;31m---------------------------------------------------------------------------\u001b[0m",
      "\u001b[0;31mNameError\u001b[0m                                 Traceback (most recent call last)",
      "\u001b[0;32m/var/folders/n6/fyxwnr8d7t7bggkm1gp2ld240000gn/T/ipykernel_21931/1152398069.py\u001b[0m in \u001b[0;36m<module>\u001b[0;34m\u001b[0m\n\u001b[0;32m----> 1\u001b[0;31m \u001b[0mprint\u001b[0m\u001b[0;34m(\u001b[0m\u001b[0md\u001b[0m\u001b[0;34m)\u001b[0m\u001b[0;34m\u001b[0m\u001b[0;34m\u001b[0m\u001b[0m\n\u001b[0m",
      "\u001b[0;31mNameError\u001b[0m: name 'd' is not defined"
     ]
    }
   ],
   "source": [
    "print(d)"
   ]
  },
  {
   "cell_type": "code",
   "execution_count": 124,
   "id": "095a81a6-fd8e-4eda-9d15-32909be9bb04",
   "metadata": {},
   "outputs": [],
   "source": [
    "sample = {'Prince','Techs'}"
   ]
  },
  {
   "cell_type": "code",
   "execution_count": null,
   "id": "f999e70e-6119-4d30-aa2d-89bf208b535f",
   "metadata": {},
   "outputs": [],
   "source": []
  },
  {
   "cell_type": "code",
   "execution_count": 125,
   "id": "900937bb-63d7-4ca4-aec1-a47dff713fea",
   "metadata": {},
   "outputs": [
    {
     "name": "stdout",
     "output_type": "stream",
     "text": [
      "Prince\n",
      "Techs\n"
     ]
    }
   ],
   "source": [
    "for e in sample:\n",
    "    print(e)"
   ]
  },
  {
   "cell_type": "code",
   "execution_count": null,
   "id": "16f98056-e8c1-4c69-a04b-2bc458103650",
   "metadata": {},
   "outputs": [],
   "source": []
  },
  {
   "cell_type": "code",
   "execution_count": 126,
   "id": "911d0555-d618-49e3-a1e8-c9ec7a55587a",
   "metadata": {},
   "outputs": [
    {
     "ename": "TypeError",
     "evalue": "'set' object is not subscriptable",
     "output_type": "error",
     "traceback": [
      "\u001b[0;31m---------------------------------------------------------------------------\u001b[0m",
      "\u001b[0;31mTypeError\u001b[0m                                 Traceback (most recent call last)",
      "\u001b[0;32m/var/folders/n6/fyxwnr8d7t7bggkm1gp2ld240000gn/T/ipykernel_21931/1138358554.py\u001b[0m in \u001b[0;36m<module>\u001b[0;34m\u001b[0m\n\u001b[0;32m----> 1\u001b[0;31m \u001b[0msample\u001b[0m\u001b[0;34m[\u001b[0m\u001b[0;36m0\u001b[0m\u001b[0;34m]\u001b[0m\u001b[0;34m\u001b[0m\u001b[0;34m\u001b[0m\u001b[0m\n\u001b[0m",
      "\u001b[0;31mTypeError\u001b[0m: 'set' object is not subscriptable"
     ]
    }
   ],
   "source": [
    "sample[0]"
   ]
  },
  {
   "cell_type": "code",
   "execution_count": 127,
   "id": "a6c48ee9-5f8f-4241-8e87-0c0c750eac09",
   "metadata": {},
   "outputs": [],
   "source": [
    "sample.add(1)"
   ]
  },
  {
   "cell_type": "code",
   "execution_count": 128,
   "id": "3bc292c7-219b-4d5f-bd7e-fb53773dd54d",
   "metadata": {},
   "outputs": [
    {
     "data": {
      "text/plain": [
       "{1, 'Prince', 'Techs'}"
      ]
     },
     "execution_count": 128,
     "metadata": {},
     "output_type": "execute_result"
    }
   ],
   "source": [
    "sample  "
   ]
  },
  {
   "cell_type": "code",
   "execution_count": 129,
   "id": "f192a47a-184f-431f-95a3-faafc4dec7d5",
   "metadata": {},
   "outputs": [],
   "source": [
    "## 集合是用{}表示"
   ]
  },
  {
   "cell_type": "code",
   "execution_count": 130,
   "id": "9a93b4b5-e7fb-4b9c-8a5a-a663c33d6d92",
   "metadata": {},
   "outputs": [],
   "source": [
    "sample.add(\"Test\")"
   ]
  },
  {
   "cell_type": "code",
   "execution_count": 131,
   "id": "26828638-8cc8-45bb-90a4-06d4e277cb2c",
   "metadata": {},
   "outputs": [
    {
     "data": {
      "text/plain": [
       "{1, 'Prince', 'Techs', 'Test'}"
      ]
     },
     "execution_count": 131,
     "metadata": {},
     "output_type": "execute_result"
    }
   ],
   "source": [
    "sample"
   ]
  },
  {
   "cell_type": "code",
   "execution_count": 133,
   "id": "64324b97-9e87-4854-b893-1307e5a6a3f3",
   "metadata": {},
   "outputs": [],
   "source": [
    "sample.add(3)"
   ]
  },
  {
   "cell_type": "code",
   "execution_count": 134,
   "id": "70d83f7e-c553-44e1-b936-fa8742acab75",
   "metadata": {},
   "outputs": [
    {
     "data": {
      "text/plain": [
       "{1, 3, 'Prince', 'Techs', 'Test'}"
      ]
     },
     "execution_count": 134,
     "metadata": {},
     "output_type": "execute_result"
    }
   ],
   "source": [
    "sample"
   ]
  },
  {
   "cell_type": "code",
   "execution_count": 135,
   "id": "ab148e13-ccef-431e-91f1-f91f07695feb",
   "metadata": {},
   "outputs": [
    {
     "ename": "TypeError",
     "evalue": "set.add() takes exactly one argument (2 given)",
     "output_type": "error",
     "traceback": [
      "\u001b[0;31m---------------------------------------------------------------------------\u001b[0m",
      "\u001b[0;31mTypeError\u001b[0m                                 Traceback (most recent call last)",
      "\u001b[0;32m/var/folders/n6/fyxwnr8d7t7bggkm1gp2ld240000gn/T/ipykernel_21931/2671317301.py\u001b[0m in \u001b[0;36m<module>\u001b[0;34m\u001b[0m\n\u001b[0;32m----> 1\u001b[0;31m \u001b[0msample\u001b[0m\u001b[0;34m.\u001b[0m\u001b[0madd\u001b[0m\u001b[0;34m(\u001b[0m\u001b[0;36m2\u001b[0m\u001b[0;34m,\u001b[0m\u001b[0;34m\"Flink\"\u001b[0m\u001b[0;34m)\u001b[0m\u001b[0;34m\u001b[0m\u001b[0;34m\u001b[0m\u001b[0m\n\u001b[0m",
      "\u001b[0;31mTypeError\u001b[0m: set.add() takes exactly one argument (2 given)"
     ]
    }
   ],
   "source": [
    "sample.add(2,\"Flink\")"
   ]
  },
  {
   "cell_type": "code",
   "execution_count": 136,
   "id": "b6b53e05-c898-4f4b-9a11-319212d8ddd8",
   "metadata": {},
   "outputs": [],
   "source": [
    "import numpy as np"
   ]
  },
  {
   "cell_type": "code",
   "execution_count": 137,
   "id": "a4634145-6117-4184-9b7e-e0e03ae32e00",
   "metadata": {},
   "outputs": [
    {
     "data": {
      "text/plain": [
       "array([[0., 0.],\n",
       "       [0., 0.]])"
      ]
     },
     "execution_count": 137,
     "metadata": {},
     "output_type": "execute_result"
    }
   ],
   "source": [
    "np.zeros([2,2])"
   ]
  },
  {
   "cell_type": "code",
   "execution_count": 138,
   "id": "81ca1d33-551f-4849-8395-a92c7c98e5c5",
   "metadata": {},
   "outputs": [
    {
     "data": {
      "text/plain": [
       "array([[1., 1., 1.],\n",
       "       [1., 1., 1.],\n",
       "       [1., 1., 1.]])"
      ]
     },
     "execution_count": 138,
     "metadata": {},
     "output_type": "execute_result"
    }
   ],
   "source": [
    "np.ones([3,3])"
   ]
  },
  {
   "cell_type": "code",
   "execution_count": 141,
   "id": "768009d8-88c5-4f03-bbbc-4e3d72bb6c38",
   "metadata": {},
   "outputs": [
    {
     "data": {
      "text/plain": [
       "array([[1., 0., 0.],\n",
       "       [0., 1., 0.],\n",
       "       [0., 0., 1.]])"
      ]
     },
     "execution_count": 141,
     "metadata": {},
     "output_type": "execute_result"
    }
   ],
   "source": [
    "np.eye(3) ## 生成对角矩阵"
   ]
  },
  {
   "cell_type": "code",
   "execution_count": 142,
   "id": "0f7249ba-2350-4bf5-8804-13b3ebfeac81",
   "metadata": {},
   "outputs": [
    {
     "data": {
      "text/plain": [
       "array([[1., 0., 0., 0.],\n",
       "       [0., 1., 0., 0.],\n",
       "       [0., 0., 1., 0.],\n",
       "       [0., 0., 0., 1.]])"
      ]
     },
     "execution_count": 142,
     "metadata": {},
     "output_type": "execute_result"
    }
   ],
   "source": [
    "np.eye(4)"
   ]
  },
  {
   "cell_type": "code",
   "execution_count": 143,
   "id": "c7134803-c9a9-4302-a7d4-21692a3166f2",
   "metadata": {},
   "outputs": [
    {
     "data": {
      "text/plain": [
       "array([[1., 0.],\n",
       "       [0., 1.]])"
      ]
     },
     "execution_count": 143,
     "metadata": {},
     "output_type": "execute_result"
    }
   ],
   "source": [
    "np.eye(2)"
   ]
  },
  {
   "cell_type": "code",
   "execution_count": 145,
   "id": "4806f270-fdda-4b35-9e1a-983a6752940f",
   "metadata": {},
   "outputs": [
    {
     "name": "stdout",
     "output_type": "stream",
     "text": [
      "[[1. 0.]\n",
      " [0. 1.]]\n"
     ]
    }
   ],
   "source": [
    "print(np.empty([2,2]))"
   ]
  },
  {
   "cell_type": "code",
   "execution_count": 147,
   "id": "c2ccdc03-b817-4c41-95c9-7f851a75942c",
   "metadata": {},
   "outputs": [
    {
     "name": "stdout",
     "output_type": "stream",
     "text": [
      "[[1. 0. 0.]\n",
      " [0. 1. 0.]\n",
      " [0. 0. 1.]]\n"
     ]
    }
   ],
   "source": [
    "print(np.empty([3,3]))"
   ]
  },
  {
   "cell_type": "code",
   "execution_count": 148,
   "id": "ecdcad97-3d7c-4662-8636-3a5d3f518e34",
   "metadata": {},
   "outputs": [
    {
     "name": "stdout",
     "output_type": "stream",
     "text": [
      "[5 5 5 5] 6\n"
     ]
    }
   ],
   "source": [
    "print(np.full(4,5),6)"
   ]
  },
  {
   "cell_type": "code",
   "execution_count": 149,
   "id": "4fc8f2e2-3bdb-4632-b4f0-7513b1f6e955",
   "metadata": {},
   "outputs": [
    {
     "name": "stdout",
     "output_type": "stream",
     "text": [
      "[[6 6 6 6 6]\n",
      " [6 6 6 6 6]\n",
      " [6 6 6 6 6]\n",
      " [6 6 6 6 6]]\n"
     ]
    }
   ],
   "source": [
    "print(np.full([4,5],6))"
   ]
  },
  {
   "cell_type": "code",
   "execution_count": 152,
   "id": "cdab0fe0-94f1-4a3e-b8c0-bd3cb7b98a0e",
   "metadata": {},
   "outputs": [
    {
     "data": {
      "text/plain": [
       "array([  1.,  12.,  23.,  34.,  45.,  56.,  67.,  78.,  89., 100.])"
      ]
     },
     "execution_count": 152,
     "metadata": {},
     "output_type": "execute_result"
    }
   ],
   "source": [
    "np.linspace(1,100,10)"
   ]
  },
  {
   "cell_type": "code",
   "execution_count": 153,
   "id": "ef3b4293-a68f-4c8f-9f76-ad0b55031a79",
   "metadata": {},
   "outputs": [
    {
     "data": {
      "text/plain": [
       "array([  0.        ,  11.11111111,  22.22222222,  33.33333333,\n",
       "        44.44444444,  55.55555556,  66.66666667,  77.77777778,\n",
       "        88.88888889, 100.        ])"
      ]
     },
     "execution_count": 153,
     "metadata": {},
     "output_type": "execute_result"
    }
   ],
   "source": [
    "np.linspace(0,100,10)"
   ]
  },
  {
   "cell_type": "code",
   "execution_count": 154,
   "id": "393e4040-bf4f-4e09-9605-379cecb0dbb6",
   "metadata": {},
   "outputs": [],
   "source": [
    "a = np.array([1,2,3])"
   ]
  },
  {
   "cell_type": "code",
   "execution_count": 155,
   "id": "de73ea0d-01f5-4742-b6b3-319b66700d38",
   "metadata": {},
   "outputs": [
    {
     "data": {
      "text/plain": [
       "array([1, 2, 3])"
      ]
     },
     "execution_count": 155,
     "metadata": {},
     "output_type": "execute_result"
    }
   ],
   "source": [
    "a"
   ]
  },
  {
   "cell_type": "code",
   "execution_count": 156,
   "id": "cfba47e5-73af-4ecd-8a36-049b3d8c1767",
   "metadata": {},
   "outputs": [],
   "source": [
    "b = [1,2,3]"
   ]
  },
  {
   "cell_type": "code",
   "execution_count": 158,
   "id": "6a24c53e-dbab-4a53-858a-01c8c1840154",
   "metadata": {},
   "outputs": [
    {
     "data": {
      "text/plain": [
       "list"
      ]
     },
     "execution_count": 158,
     "metadata": {},
     "output_type": "execute_result"
    }
   ],
   "source": [
    "type(b)"
   ]
  },
  {
   "cell_type": "code",
   "execution_count": 159,
   "id": "ae76b23b-4ab3-4ede-8d15-2d5b6e6a32b3",
   "metadata": {},
   "outputs": [],
   "source": [
    "atolist = list(a)"
   ]
  },
  {
   "cell_type": "code",
   "execution_count": 160,
   "id": "ac5c568f-f876-40e6-a2e0-63e8434b1f53",
   "metadata": {},
   "outputs": [
    {
     "data": {
      "text/plain": [
       "list"
      ]
     },
     "execution_count": 160,
     "metadata": {},
     "output_type": "execute_result"
    }
   ],
   "source": [
    "type(atolist)"
   ]
  },
  {
   "cell_type": "code",
   "execution_count": 161,
   "id": "66359916-e5ab-4a57-88f9-edc11d103479",
   "metadata": {},
   "outputs": [
    {
     "data": {
      "text/plain": [
       "array([1, 2, 3])"
      ]
     },
     "execution_count": 161,
     "metadata": {},
     "output_type": "execute_result"
    }
   ],
   "source": [
    "np.array([1,2,3])"
   ]
  },
  {
   "cell_type": "code",
   "execution_count": 162,
   "id": "bc6d8975-95c0-4376-b96c-0919def8ba92",
   "metadata": {},
   "outputs": [],
   "source": [
    "b = np.array([1,2,3])"
   ]
  },
  {
   "cell_type": "code",
   "execution_count": 163,
   "id": "3d07bee3-ec36-46c3-995a-84874208cdc9",
   "metadata": {},
   "outputs": [
    {
     "name": "stdout",
     "output_type": "stream",
     "text": [
      "(3,)\n"
     ]
    }
   ],
   "source": [
    "print(b.shape)"
   ]
  },
  {
   "cell_type": "code",
   "execution_count": 164,
   "id": "0a71a102-460b-4ebc-9f53-2dc444244d71",
   "metadata": {},
   "outputs": [
    {
     "name": "stdout",
     "output_type": "stream",
     "text": [
      "3\n"
     ]
    }
   ],
   "source": [
    "print(b.size)"
   ]
  },
  {
   "cell_type": "code",
   "execution_count": 165,
   "id": "cdbb5107-ca3a-42bd-98b5-0c44d6eda67e",
   "metadata": {},
   "outputs": [
    {
     "data": {
      "text/plain": [
       "<function ndarray.argmax>"
      ]
     },
     "execution_count": 165,
     "metadata": {},
     "output_type": "execute_result"
    }
   ],
   "source": [
    "b.argmax"
   ]
  },
  {
   "cell_type": "code",
   "execution_count": 166,
   "id": "51663862-0168-4971-85c5-a950ecc74111",
   "metadata": {},
   "outputs": [
    {
     "name": "stdout",
     "output_type": "stream",
     "text": [
      "<built-in method argmax of numpy.ndarray object at 0x7fc234f5e090>\n"
     ]
    }
   ],
   "source": [
    "print(b.argmax)"
   ]
  },
  {
   "cell_type": "code",
   "execution_count": 169,
   "id": "ccf13633-b88a-4870-b4c2-b6f6fd92cef8",
   "metadata": {},
   "outputs": [],
   "source": [
    "## 创建二维数组\n",
    "b = np.array([[1,2,3],[4,5,6],[7,8,9]])"
   ]
  },
  {
   "cell_type": "code",
   "execution_count": 170,
   "id": "517ff39b-4f52-441e-be47-d8f491b4c61f",
   "metadata": {},
   "outputs": [
    {
     "data": {
      "text/plain": [
       "array([[1, 2, 3],\n",
       "       [4, 5, 6],\n",
       "       [7, 8, 9]])"
      ]
     },
     "execution_count": 170,
     "metadata": {},
     "output_type": "execute_result"
    }
   ],
   "source": [
    "b"
   ]
  },
  {
   "cell_type": "code",
   "execution_count": 171,
   "id": "fbfe7c20-0bbd-4d93-9364-e14aacff6a35",
   "metadata": {},
   "outputs": [],
   "source": [
    "import numpy as np\n",
    "import pandas as pd\n",
    "import matplotlib.pyplot as plt\n",
    "import seaborn as sns"
   ]
  },
  {
   "cell_type": "code",
   "execution_count": 172,
   "id": "d8dee9ad-d2fc-4860-9246-fbf2512fcc2f",
   "metadata": {},
   "outputs": [],
   "source": [
    "## 选择图形主题,默认是全刻度\n",
    "plt.style.use(\"seaborn-darkgrid\")"
   ]
  },
  {
   "cell_type": "code",
   "execution_count": 178,
   "id": "ef3cc3ec-2cea-4362-af7e-ff6522fce8c3",
   "metadata": {},
   "outputs": [
    {
     "name": "stderr",
     "output_type": "stream",
     "text": [
      "No handles with labels found to put in legend.\n"
     ]
    },
    {
     "data": {
      "image/png": "[encoded data removed]",
      "text/plain": [
       "<Figure size 432x288 with 1 Axes>"
      ]
     },
     "metadata": {},
     "output_type": "display_data"
    }
   ],
   "source": [
    "x = np.arange(0,3*np.pi,0.1)\n",
    "y = np.sin(x)\n",
    "plt.xlabel(\"x-3PI\")\n",
    "plt.ylabel(\"y-sin(x)\")\n",
    "plt.plot(x,y)\n",
    "plt.legend(loc=\"best\")\n",
    "plt.show()"
   ]
  },
  {
   "cell_type": "code",
   "execution_count": null,
   "id": "17a8d9be-37d8-4bfb-ba2c-60c550739415",
   "metadata": {},
   "outputs": [],
   "source": []
  },
  {
   "cell_type": "code",
   "execution_count": null,
   "id": "df8e119e-6e22-4342-b50d-e26e7790fd59",
   "metadata": {},
   "outputs": [],
   "source": []
  },
  {
   "cell_type": "code",
   "execution_count": null,
   "id": "209abdd5-8506-4e28-81de-548822a9659a",
   "metadata": {},
   "outputs": [],
   "source": []
  },
  {
   "cell_type": "code",
   "execution_count": 176,
   "id": "8c4c7036-bb66-401c-98b7-0478b1350e89",
   "metadata": {},
   "outputs": [
    {
     "data": {
      "image/png": "[encoded data removed]",
      "text/plain": [
       "<Figure size 432x288 with 1 Axes>"
      ]
     },
     "metadata": {},
     "output_type": "display_data"
    }
   ],
   "source": []
  },
  {
   "cell_type": "code",
   "execution_count": 1,
   "id": "8cf1dfef-1faf-4a07-b4a6-d2b7136a43eb",
   "metadata": {},
   "outputs": [],
   "source": [
    "import torch "
   ]
  },
  {
   "cell_type": "code",
   "execution_count": 2,
   "id": "e8b0ecdf-a89d-4f86-ab2c-bd6ac3948080",
   "metadata": {},
   "outputs": [
    {
     "data": {
      "text/plain": [
       "<function torch.cuda.is_available() -> bool>"
      ]
     },
     "execution_count": 2,
     "metadata": {},
     "output_type": "execute_result"
    }
   ],
   "source": [
    "torch.cuda.is_available"
   ]
  },
  {
   "cell_type": "code",
   "execution_count": 3,
   "id": "fd1e4336-1428-4e67-9638-697385967afa",
   "metadata": {},
   "outputs": [],
   "source": [
    "re = torch.cuda.is_available"
   ]
  },
  {
   "cell_type": "code",
   "execution_count": 4,
   "id": "f319680a-4c4a-493d-914c-895b5ca85c6c",
   "metadata": {},
   "outputs": [
    {
     "name": "stdout",
     "output_type": "stream",
     "text": [
      "<function is_available at 0x7fbbcf9e2940>\n"
     ]
    }
   ],
   "source": [
    "print(re)"
   ]
  },
  {
   "cell_type": "code",
   "execution_count": 5,
   "id": "86263993-7f7a-4aa9-985b-1b99b29bbc72",
   "metadata": {},
   "outputs": [
    {
     "data": {
      "text/plain": [
       "0"
      ]
     },
     "execution_count": 5,
     "metadata": {},
     "output_type": "execute_result"
    }
   ],
   "source": [
    "torch.cuda.device_count()"
   ]
  },
  {
   "cell_type": "code",
   "execution_count": 7,
   "id": "2525af0e-e66f-48a6-982c-442425e4523c",
   "metadata": {},
   "outputs": [],
   "source": [
    "data = torch.ones((3,3))"
   ]
  },
  {
   "cell_type": "code",
   "execution_count": 8,
   "id": "65301423-e909-42a0-87c8-334f0015d389",
   "metadata": {},
   "outputs": [
    {
     "name": "stdout",
     "output_type": "stream",
     "text": [
      "cpu\n"
     ]
    }
   ],
   "source": [
    "print(data.device)"
   ]
  },
  {
   "cell_type": "code",
   "execution_count": 13,
   "id": "df93958f-8aee-41a3-b9ed-3c3013f19acd",
   "metadata": {},
   "outputs": [],
   "source": [
    "device = torch.device(\"mps\")"
   ]
  },
  {
   "cell_type": "code",
   "execution_count": 14,
   "id": "59d426b2-6168-4ef8-b7b9-7611632cda2f",
   "metadata": {},
   "outputs": [
    {
     "name": "stdout",
     "output_type": "stream",
     "text": [
      "mps\n"
     ]
    }
   ],
   "source": [
    "print(device)"
   ]
  },
  {
   "cell_type": "code",
   "execution_count": 15,
   "id": "68044b20-58d4-40b4-8eac-3846c1e186bc",
   "metadata": {},
   "outputs": [
    {
     "name": "stdout",
     "output_type": "stream",
     "text": [
      "mps:0\n"
     ]
    }
   ],
   "source": [
    "data_gpu = data.to(device)\n",
    "print(data_gpu.device)"
   ]
  },
  {
   "cell_type": "code",
   "execution_count": null,
   "id": "423ee37d-9a1e-47a0-8ea7-86a6ad7c0a08",
   "metadata": {},
   "outputs": [],
   "source": [
    "pip install langchain"
   ]
  },
  {
   "cell_type": "code",
   "execution_count": 17,
   "id": "b8cd63bf-4cc6-4481-a4d8-96c579f218c4",
   "metadata": {},
   "outputs": [
    {
     "name": "stdout",
     "output_type": "stream",
     "text": [
      "Looking in indexes: https://pypi.tuna.tsinghua.edu.cn/simple\n",
      "Requirement already satisfied: openai in /Users/liujingmao/opt/anaconda3/lib/python3.9/site-packages (1.3.2)\n",
      "Requirement already satisfied: distro<2,>=1.7.0 in /Users/liujingmao/opt/anaconda3/lib/python3.9/site-packages (from openai) (1.8.0)\n",
      "Requirement already satisfied: pydantic<3,>=1.9.0 in /Users/liujingmao/opt/anaconda3/lib/python3.9/site-packages (from openai) (2.4.2)\n",
      "Requirement already satisfied: httpx<1,>=0.23.0 in /Users/liujingmao/opt/anaconda3/lib/python3.9/site-packages (from openai) (0.25.1)\n",
      "Requirement already satisfied: anyio<4,>=3.5.0 in /Users/liujingmao/opt/anaconda3/lib/python3.9/site-packages (from openai) (3.7.1)\n",
      "Requirement already satisfied: tqdm>4 in /Users/liujingmao/opt/anaconda3/lib/python3.9/site-packages (from openai) (4.62.3)\n",
      "Requirement already satisfied: typing-extensions<5,>=4.5 in /Users/liujingmao/opt/anaconda3/lib/python3.9/site-packages (from openai) (4.8.0)\n",
      "Requirement already satisfied: idna>=2.8 in /Users/liujingmao/opt/anaconda3/lib/python3.9/site-packages (from anyio<4,>=3.5.0->openai) (3.2)\n",
      "Requirement already satisfied: sniffio>=1.1 in /Users/liujingmao/opt/anaconda3/lib/python3.9/site-packages (from anyio<4,>=3.5.0->openai) (1.2.0)\n",
      "Requirement already satisfied: exceptiongroup in /Users/liujingmao/opt/anaconda3/lib/python3.9/site-packages (from anyio<4,>=3.5.0->openai) (1.1.3)\n",
      "Requirement already satisfied: httpcore in /Users/liujingmao/opt/anaconda3/lib/python3.9/site-packages (from httpx<1,>=0.23.0->openai) (1.0.2)\n",
      "Requirement already satisfied: certifi in /Users/liujingmao/opt/anaconda3/lib/python3.9/site-packages (from httpx<1,>=0.23.0->openai) (2023.7.22)\n",
      "Requirement already satisfied: annotated-types>=0.4.0 in /Users/liujingmao/opt/anaconda3/lib/python3.9/site-packages (from pydantic<3,>=1.9.0->openai) (0.6.0)\n",
      "Requirement already satisfied: pydantic-core==2.10.1 in /Users/liujingmao/opt/anaconda3/lib/python3.9/site-packages (from pydantic<3,>=1.9.0->openai) (2.10.1)\n",
      "Requirement already satisfied: h11<0.15,>=0.13 in /Users/liujingmao/opt/anaconda3/lib/python3.9/site-packages (from httpcore->httpx<1,>=0.23.0->openai) (0.14.0)\n",
      "Note: you may need to restart the kernel to use updated packages.\n"
     ]
    }
   ],
   "source": [
    "pip install openai"
   ]
  },
  {
   "cell_type": "code",
   "execution_count": null,
   "id": "fbb0973b-d6a1-4b94-ad2c-2482ed6392fc",
   "metadata": {},
   "outputs": [],
   "source": []
  },
  {
   "cell_type": "code",
   "execution_count": null,
   "id": "96782f21-38eb-4c1f-9702-d734bf433d83",
   "metadata": {},
   "outputs": [],
   "source": []
  },
  {
   "cell_type": "code",
   "execution_count": null,
   "id": "51fcf74a-939a-4142-bcdd-389ca2bd8cce",
   "metadata": {},
   "outputs": [],
   "source": []
  },
  {
   "cell_type": "code",
   "execution_count": null,
   "id": "24082897-a404-4ee3-9154-5552036017a1",
   "metadata": {},
   "outputs": [],
   "source": []
  },
  {
   "cell_type": "code",
   "execution_count": null,
   "id": "979a58a8-87c4-4693-a5d1-91967cda97f4",
   "metadata": {},
   "outputs": [],
   "source": []
  },
  {
   "cell_type": "code",
   "execution_count": null,
   "id": "3cd09df3-4ba4-4428-85f2-218f1dce1618",
   "metadata": {},
   "outputs": [],
   "source": []
  },
  {
   "cell_type": "code",
   "execution_count": null,
   "id": "f990d253-8572-4ba3-a9f0-ae318020afd0",
   "metadata": {},
   "outputs": [],
   "source": []
  },
  {
   "cell_type": "code",
   "execution_count": null,
   "id": "a5cd9a15-f870-41cb-9f0e-bc05a5745e69",
   "metadata": {},
   "outputs": [],
   "source": []
  },
  {
   "cell_type": "code",
   "execution_count": null,
   "id": "17ec08be-8923-4991-8160-fae8914d63ec",
   "metadata": {},
   "outputs": [],
   "source": []
  },
  {
   "cell_type": "code",
   "execution_count": null,
   "id": "88dca714-2e96-41f4-a504-884cfad0a15c",
   "metadata": {},
   "outputs": [],
   "source": []
  },
  {
   "cell_type": "code",
   "execution_count": null,
   "id": "05d83e19-24d6-4786-80d4-72c3414c4196",
   "metadata": {},
   "outputs": [],
   "source": []
  },
  {
   "cell_type": "code",
   "execution_count": null,
   "id": "5eef1646-6eab-4648-8737-abd16043521c",
   "metadata": {},
   "outputs": [],
   "source": []
  },
  {
   "cell_type": "code",
   "execution_count": null,
   "id": "a91c3fd0-0a7a-4dc9-a5ec-c532f55b9660",
   "metadata": {},
   "outputs": [],
   "source": []
  },
  {
   "cell_type": "code",
   "execution_count": null,
   "id": "e00562ae-718b-4a92-a580-47c865c04cfb",
   "metadata": {},
   "outputs": [],
   "source": []
  },
  {
   "cell_type": "code",
   "execution_count": null,
   "id": "8f1c37fb-9648-4408-97d3-2f137fe9a1b2",
   "metadata": {},
   "outputs": [],
   "source": []
  },
  {
   "cell_type": "code",
   "execution_count": null,
   "id": "e128a0fa-1055-456b-b900-a810bd53e4be",
   "metadata": {},
   "outputs": [],
   "source": []
  },
  {
   "cell_type": "code",
   "execution_count": null,
   "id": "b16b203e-3db6-4128-ab7f-6ee25f1ec877",
   "metadata": {},
   "outputs": [],
   "source": []
  },
  {
   "cell_type": "code",
   "execution_count": null,
   "id": "ffcce78b-7651-4d5e-9c99-1bed3e05effa",
   "metadata": {},
   "outputs": [],
   "source": []
  },
  {
   "cell_type": "code",
   "execution_count": null,
   "id": "75b80f8e-7402-4bc0-a481-c13572a7072b",
   "metadata": {},
   "outputs": [],
   "source": []
  },
  {
   "cell_type": "code",
   "execution_count": null,
   "id": "9733c74a-3b70-440e-9200-0a1ba3f2f9af",
   "metadata": {},
   "outputs": [],
   "source": []
  },
  {
   "cell_type": "code",
   "execution_count": null,
   "id": "caadddab-9a36-44d7-a9e6-07c6bf02f753",
   "metadata": {},
   "outputs": [],
   "source": []
  },
  {
   "cell_type": "code",
   "execution_count": null,
   "id": "906e807c-e4f0-43f5-8c9a-adb36b42c37a",
   "metadata": {},
   "outputs": [],
   "source": []
  },
  {
   "cell_type": "code",
   "execution_count": null,
   "id": "f55a665b-1bf1-454d-9055-1484a09505d7",
   "metadata": {},
   "outputs": [],
   "source": []
  },
  {
   "cell_type": "code",
   "execution_count": null,
   "id": "097e80b4-1b8d-4c82-a5ae-c501901316a2",
   "metadata": {},
   "outputs": [],
   "source": []
  },
  {
   "cell_type": "code",
   "execution_count": null,
   "id": "98b45ebc-3552-44a4-a331-b0588181b88f",
   "metadata": {},
   "outputs": [],
   "source": []
  },
  {
   "cell_type": "code",
   "execution_count": null,
   "id": "4af7990f-a39c-44b6-8dac-6ce28fe4da55",
   "metadata": {},
   "outputs": [],
   "source": []
  },
  {
   "cell_type": "code",
   "execution_count": null,
   "id": "981d9981-174e-4936-966d-babd3f44699c",
   "metadata": {},
   "outputs": [],
   "source": []
  }
 ],
 "metadata": {
  "kernelspec": {
   "display_name": "Python 3 (ipykernel)",
   "language": "python",
   "name": "python3"
  },
  "language_info": {
   "codemirror_mode": {
    "name": "ipython",
    "version": 3
   },
   "file_extension": ".py",
   "mimetype": "text/x-python",
   "name": "python",
   "nbconvert_exporter": "python",
   "pygments_lexer": "ipython3",
   "version": "3.9.7"
  }
 },
 "nbformat": 4,
 "nbformat_minor": 5
}
